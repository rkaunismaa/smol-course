{
 "cells": [
  {
   "cell_type": "markdown",
   "metadata": {},
   "source": [
    "#### Monday, January 13, 2025"
   ]
  },
  {
   "cell_type": "markdown",
   "metadata": {},
   "source": [
    "# Supervised Fine-Tuning with SFTTrainer\n",
    "\n",
    "This notebook demonstrates how to fine-tune the `HuggingFaceTB/SmolLM2-135M` model using the `SFTTrainer` from the `trl` library. The notebook cells run and will finetune the model. You can select your difficulty by trying out different datasets.\n",
    "\n",
    "<div style='background-color: lightblue; padding: 10px; border-radius: 5px; margin-bottom: 20px; color:black'>\n",
    "    <h2 style='margin: 0;color:blue'>Exercise: Fine-Tuning SmolLM2 with SFTTrainer</h2>\n",
    "    <p>Take a dataset from the Hugging Face hub and finetune a model on it. </p> \n",
    "    <p><b>Difficulty Levels</b></p>\n",
    "    <p>🐢 Use the `HuggingFaceTB/smoltalk` dataset</p>\n",
    "    <p>🐕 Try out the `bigcode/the-stack-smol` dataset and finetune a code generation model on a specific subset `data/python`.</p>\n",
    "    <p>🦁 Select a dataset that relates to a real world use case your interested in</p>\n",
    "</div>"
   ]
  },
  {
   "cell_type": "code",
   "execution_count": 1,
   "metadata": {},
   "outputs": [
    {
     "data": {
      "application/vnd.jupyter.widget-view+json": {
       "model_id": "73dc1ec671c745a9b4bba5959c6c6a6e",
       "version_major": 2,
       "version_minor": 0
      },
      "text/plain": [
       "VBox(children=(HTML(value='<center> <img\\nsrc=https://huggingface.co/front/assets/huggingface_logo-noborder.sv…"
      ]
     },
     "metadata": {},
     "output_type": "display_data"
    },
    {
     "name": "stderr",
     "output_type": "stream",
     "text": [
      "Token has not been saved to git credential helper.\n"
     ]
    }
   ],
   "source": [
    "# Install the requirements in Google Colab\n",
    "# !pip install transformers datasets trl huggingface_hub\n",
    "\n",
    "# Authenticate to Hugging Face\n",
    "\n",
    "from huggingface_hub import login\n",
    "login()\n",
    "\n",
    "# for convenience you can create an environment variable containing your hub token as HF_TOKEN"
   ]
  },
  {
   "cell_type": "code",
   "execution_count": 2,
   "metadata": {},
   "outputs": [
    {
     "data": {
      "text/plain": [
       "'cuda'"
      ]
     },
     "execution_count": 2,
     "metadata": {},
     "output_type": "execute_result"
    }
   ],
   "source": [
    "# Import necessary libraries\n",
    "from transformers import AutoModelForCausalLM, AutoTokenizer\n",
    "from datasets import load_dataset\n",
    "from trl import SFTConfig, SFTTrainer, setup_chat_format\n",
    "import torch\n",
    "\n",
    "device = (\n",
    "    \"cuda\"\n",
    "    if torch.cuda.is_available()\n",
    "    else \"mps\" if torch.backends.mps.is_available() else \"cpu\"\n",
    ")\n",
    "device"
   ]
  },
  {
   "cell_type": "code",
   "execution_count": 3,
   "metadata": {},
   "outputs": [],
   "source": [
    "# Load the model and tokenizer\n",
    "model_name = \"HuggingFaceTB/SmolLM2-135M\"\n",
    "model = AutoModelForCausalLM.from_pretrained(\n",
    "    pretrained_model_name_or_path=model_name\n",
    ").to(device)\n",
    "tokenizer = AutoTokenizer.from_pretrained(pretrained_model_name_or_path=model_name)"
   ]
  },
  {
   "cell_type": "code",
   "execution_count": 4,
   "metadata": {},
   "outputs": [],
   "source": [
    "# Set up the chat format\n",
    "model, tokenizer = setup_chat_format(model=model, tokenizer=tokenizer)"
   ]
  },
  {
   "cell_type": "code",
   "execution_count": 5,
   "metadata": {},
   "outputs": [],
   "source": [
    "# Set our name for the finetune to be saved &/ uploaded to\n",
    "finetune_name = \"SmolLM2-FT-MyDataset\"\n",
    "finetune_tags = [\"smol-course\", \"module_1\"]"
   ]
  },
  {
   "cell_type": "markdown",
   "metadata": {},
   "source": [
    "# Generate with the base model\n",
    "\n",
    "Here we will try out the base model which does not have a chat template. "
   ]
  },
  {
   "cell_type": "code",
   "execution_count": 6,
   "metadata": {},
   "outputs": [],
   "source": [
    "# Let's test the base model before training\n",
    "prompt = \"Write a haiku about programming\""
   ]
  },
  {
   "cell_type": "code",
   "execution_count": 7,
   "metadata": {},
   "outputs": [
    {
     "name": "stdout",
     "output_type": "stream",
     "text": [
      "<|im_start|>user\n",
      "Write a haiku about programming<|im_end|>\n",
      "\n"
     ]
    }
   ],
   "source": [
    "# Format with template\n",
    "messages = [{\"role\": \"user\", \"content\": prompt}]\n",
    "formatted_prompt = tokenizer.apply_chat_template(messages, tokenize=False)\n",
    "print(formatted_prompt)"
   ]
  },
  {
   "cell_type": "code",
   "execution_count": 8,
   "metadata": {},
   "outputs": [
    {
     "name": "stdout",
     "output_type": "stream",
     "text": [
      "Before training:\n",
      "user\n",
      "Write a haiku about programming\n",
      "Write a haiku about programming\n",
      "Write a haiku about programming\n",
      "Write a haiku about programming\n",
      "Write a haiku about programming\n",
      "Write a haiku about programming\n",
      "Write a haiku about programming\n",
      "Write a haiku about programming\n",
      "Write a haiku about programming\n",
      "Write a haiku about programming\n",
      "Write a haiku about programming\n",
      "Write a haiku about programming\n",
      "Write a haiku about programming\n",
      "Write a haiku about programming\n",
      "Write a haiku about programming\n",
      "Write a\n"
     ]
    }
   ],
   "source": [
    "# Generate response\n",
    "inputs = tokenizer(formatted_prompt, return_tensors=\"pt\").to(device)\n",
    "outputs = model.generate(**inputs, max_new_tokens=100)\n",
    "print(\"Before training:\")\n",
    "print(tokenizer.decode(outputs[0], skip_special_tokens=True))"
   ]
  },
  {
   "cell_type": "markdown",
   "metadata": {},
   "source": [
    "## Dataset Preparation\n",
    "\n",
    "We will load a sample dataset and format it for training. The dataset should be structured with input-output pairs, where each input is a prompt and the output is the expected response from the model.\n",
    "\n",
    "**TRL will format input messages based on the model's chat templates.** They need to be represented as a list of dictionaries with the keys: `role` and `content`,."
   ]
  },
  {
   "cell_type": "code",
   "execution_count": 9,
   "metadata": {},
   "outputs": [],
   "source": [
    "# Load a sample dataset\n",
    "from datasets import load_dataset\n",
    "\n",
    "# TODO: define your dataset and config using the path and name parameters\n",
    "ds = load_dataset(path=\"HuggingFaceTB/smoltalk\", name=\"everyday-conversations\")"
   ]
  },
  {
   "cell_type": "code",
   "execution_count": 10,
   "metadata": {},
   "outputs": [],
   "source": [
    "# TODO: 🦁 If your dataset is not in a format that TRL can convert to the chat template, you will need to process it. Refer to the [module](../chat_templates.md)"
   ]
  },
  {
   "cell_type": "markdown",
   "metadata": {},
   "source": [
    "## Configuring the SFTTrainer\n",
    "\n",
    "The `SFTTrainer` is configured with various parameters that control the training process. These include the number of training steps, batch size, learning rate, and evaluation strategy. Adjust these parameters based on your specific requirements and computational resources."
   ]
  },
  {
   "cell_type": "code",
   "execution_count": 11,
   "metadata": {},
   "outputs": [
    {
     "name": "stderr",
     "output_type": "stream",
     "text": [
      "/home/rob/Data/Documents/Github/rkaunismaa/smol-course/.venv/lib/python3.11/site-packages/transformers/training_args.py:1568: FutureWarning: `evaluation_strategy` is deprecated and will be removed in version 4.46 of 🤗 Transformers. Use `eval_strategy` instead\n",
      "  warnings.warn(\n"
     ]
    }
   ],
   "source": [
    "# Configure the SFTTrainer\n",
    "sft_config = SFTConfig(\n",
    "    output_dir=\"./sft_output\",\n",
    "    max_steps=1000,  # Adjust based on dataset size and desired training duration\n",
    "    per_device_train_batch_size=4,  # Set according to your GPU memory capacity\n",
    "    learning_rate=5e-5,  # Common starting point for fine-tuning\n",
    "    logging_steps=10,  # Frequency of logging training metrics\n",
    "    save_steps=100,  # Frequency of saving model checkpoints\n",
    "    evaluation_strategy=\"steps\",  # Evaluate the model at regular intervals\n",
    "    eval_steps=50,  # Frequency of evaluation\n",
    "    use_mps_device=(\n",
    "        True if device == \"mps\" else False\n",
    "    ),  # Use MPS for mixed precision training\n",
    "    hub_model_id=finetune_name,  # Set a unique name for your model\n",
    ")"
   ]
  },
  {
   "cell_type": "code",
   "execution_count": 12,
   "metadata": {},
   "outputs": [
    {
     "name": "stderr",
     "output_type": "stream",
     "text": [
      "/home/rob/Data/Documents/Github/rkaunismaa/smol-course/.venv/lib/python3.11/site-packages/trl/trainer/sft_trainer.py:309: UserWarning: You didn't pass a `max_seq_length` argument to the SFTTrainer, this will default to 1024\n",
      "  warnings.warn(\n"
     ]
    },
    {
     "data": {
      "application/vnd.jupyter.widget-view+json": {
       "model_id": "fe80f796c78b45ed919195750bb4da52",
       "version_major": 2,
       "version_minor": 0
      },
      "text/plain": [
       "Map:   0%|          | 0/2260 [00:00<?, ? examples/s]"
      ]
     },
     "metadata": {},
     "output_type": "display_data"
    },
    {
     "data": {
      "application/vnd.jupyter.widget-view+json": {
       "model_id": "9afde7383af54dff9805a945f73a3f54",
       "version_major": 2,
       "version_minor": 0
      },
      "text/plain": [
       "Map:   0%|          | 0/119 [00:00<?, ? examples/s]"
      ]
     },
     "metadata": {},
     "output_type": "display_data"
    },
    {
     "name": "stderr",
     "output_type": "stream",
     "text": [
      "max_steps is given, it will override any value given in num_train_epochs\n"
     ]
    }
   ],
   "source": [
    "# Initialize the SFTTrainer\n",
    "trainer = SFTTrainer(\n",
    "    model=model,\n",
    "    args=sft_config,\n",
    "    train_dataset=ds[\"train\"],\n",
    "    tokenizer=tokenizer,\n",
    "    eval_dataset=ds[\"test\"],\n",
    ")\n",
    "\n",
    "# TODO: 🦁 🐕 align the SFTTrainer params with your chosen dataset. For example, if you are using the `bigcode/the-stack-smol` dataset, you will need to choose the `content` column`"
   ]
  },
  {
   "cell_type": "markdown",
   "metadata": {},
   "source": [
    "## Training the Model\n",
    "\n",
    "With the trainer configured, we can now proceed to train the model. The training process will involve iterating over the dataset, computing the loss, and updating the model's parameters to minimize this loss."
   ]
  },
  {
   "cell_type": "code",
   "execution_count": 13,
   "metadata": {},
   "outputs": [
    {
     "data": {
      "application/vnd.jupyter.widget-view+json": {
       "model_id": "acf3d400ae7747ae85770e8cab2b93e0",
       "version_major": 2,
       "version_minor": 0
      },
      "text/plain": [
       "  0%|          | 0/1000 [00:00<?, ?it/s]"
      ]
     },
     "metadata": {},
     "output_type": "display_data"
    },
    {
     "name": "stdout",
     "output_type": "stream",
     "text": [
      "{'loss': 1.6774, 'grad_norm': 2.7205331325531006, 'learning_rate': 4.9500000000000004e-05, 'epoch': 0.02}\n",
      "{'loss': 1.2563, 'grad_norm': 2.644493579864502, 'learning_rate': 4.9e-05, 'epoch': 0.04}\n",
      "{'loss': 1.234, 'grad_norm': 2.3947083950042725, 'learning_rate': 4.85e-05, 'epoch': 0.05}\n",
      "{'loss': 1.161, 'grad_norm': 2.5028371810913086, 'learning_rate': 4.8e-05, 'epoch': 0.07}\n",
      "{'loss': 1.0657, 'grad_norm': 2.2998485565185547, 'learning_rate': 4.75e-05, 'epoch': 0.09}\n"
     ]
    },
    {
     "data": {
      "application/vnd.jupyter.widget-view+json": {
       "model_id": "36f093595207494a919b0a310ec20124",
       "version_major": 2,
       "version_minor": 0
      },
      "text/plain": [
       "  0%|          | 0/15 [00:00<?, ?it/s]"
      ]
     },
     "metadata": {},
     "output_type": "display_data"
    },
    {
     "name": "stdout",
     "output_type": "stream",
     "text": [
      "{'eval_loss': 1.158981204032898, 'eval_runtime': 1.8303, 'eval_samples_per_second': 65.016, 'eval_steps_per_second': 8.195, 'epoch': 0.09}\n",
      "{'loss': 1.1566, 'grad_norm': 2.2886159420013428, 'learning_rate': 4.7e-05, 'epoch': 0.11}\n",
      "{'loss': 1.1648, 'grad_norm': 2.0124387741088867, 'learning_rate': 4.6500000000000005e-05, 'epoch': 0.12}\n",
      "{'loss': 1.1244, 'grad_norm': 2.128488779067993, 'learning_rate': 4.600000000000001e-05, 'epoch': 0.14}\n",
      "{'loss': 1.086, 'grad_norm': 2.224376916885376, 'learning_rate': 4.55e-05, 'epoch': 0.16}\n",
      "{'loss': 1.1116, 'grad_norm': 2.0808310508728027, 'learning_rate': 4.5e-05, 'epoch': 0.18}\n"
     ]
    },
    {
     "data": {
      "application/vnd.jupyter.widget-view+json": {
       "model_id": "d17dc8dcfe9d4266929aa82052b2ecbe",
       "version_major": 2,
       "version_minor": 0
      },
      "text/plain": [
       "  0%|          | 0/15 [00:00<?, ?it/s]"
      ]
     },
     "metadata": {},
     "output_type": "display_data"
    },
    {
     "name": "stdout",
     "output_type": "stream",
     "text": [
      "{'eval_loss': 1.124064564704895, 'eval_runtime': 1.7495, 'eval_samples_per_second': 68.02, 'eval_steps_per_second': 8.574, 'epoch': 0.18}\n",
      "{'loss': 1.0621, 'grad_norm': 2.050309181213379, 'learning_rate': 4.4500000000000004e-05, 'epoch': 0.19}\n",
      "{'loss': 1.1234, 'grad_norm': 2.077944755554199, 'learning_rate': 4.4000000000000006e-05, 'epoch': 0.21}\n",
      "{'loss': 1.0921, 'grad_norm': 1.996773362159729, 'learning_rate': 4.35e-05, 'epoch': 0.23}\n",
      "{'loss': 1.0627, 'grad_norm': 2.1300501823425293, 'learning_rate': 4.3e-05, 'epoch': 0.25}\n",
      "{'loss': 1.0624, 'grad_norm': 2.063920021057129, 'learning_rate': 4.25e-05, 'epoch': 0.27}\n"
     ]
    },
    {
     "data": {
      "application/vnd.jupyter.widget-view+json": {
       "model_id": "0e168cde50b74476997ff0dcc2b27f01",
       "version_major": 2,
       "version_minor": 0
      },
      "text/plain": [
       "  0%|          | 0/15 [00:00<?, ?it/s]"
      ]
     },
     "metadata": {},
     "output_type": "display_data"
    },
    {
     "name": "stdout",
     "output_type": "stream",
     "text": [
      "{'eval_loss': 1.095484972000122, 'eval_runtime': 1.7208, 'eval_samples_per_second': 69.156, 'eval_steps_per_second': 8.717, 'epoch': 0.27}\n",
      "{'loss': 1.0679, 'grad_norm': 2.0234882831573486, 'learning_rate': 4.2e-05, 'epoch': 0.28}\n",
      "{'loss': 1.0966, 'grad_norm': 2.064870595932007, 'learning_rate': 4.15e-05, 'epoch': 0.3}\n",
      "{'loss': 1.0368, 'grad_norm': 1.7581372261047363, 'learning_rate': 4.1e-05, 'epoch': 0.32}\n",
      "{'loss': 1.0548, 'grad_norm': 1.9994421005249023, 'learning_rate': 4.05e-05, 'epoch': 0.34}\n",
      "{'loss': 1.0482, 'grad_norm': 1.8691614866256714, 'learning_rate': 4e-05, 'epoch': 0.35}\n"
     ]
    },
    {
     "data": {
      "application/vnd.jupyter.widget-view+json": {
       "model_id": "cb30d18c02c64c048706b9140fa6f0b2",
       "version_major": 2,
       "version_minor": 0
      },
      "text/plain": [
       "  0%|          | 0/15 [00:00<?, ?it/s]"
      ]
     },
     "metadata": {},
     "output_type": "display_data"
    },
    {
     "name": "stdout",
     "output_type": "stream",
     "text": [
      "{'eval_loss': 1.0796993970870972, 'eval_runtime': 1.7511, 'eval_samples_per_second': 67.957, 'eval_steps_per_second': 8.566, 'epoch': 0.35}\n",
      "{'loss': 1.0709, 'grad_norm': 1.966615080833435, 'learning_rate': 3.9500000000000005e-05, 'epoch': 0.37}\n",
      "{'loss': 1.1066, 'grad_norm': 2.0240437984466553, 'learning_rate': 3.9000000000000006e-05, 'epoch': 0.39}\n",
      "{'loss': 1.0444, 'grad_norm': 1.9774984121322632, 'learning_rate': 3.85e-05, 'epoch': 0.41}\n",
      "{'loss': 1.0338, 'grad_norm': 1.944192886352539, 'learning_rate': 3.8e-05, 'epoch': 0.42}\n",
      "{'loss': 1.0412, 'grad_norm': 1.9526011943817139, 'learning_rate': 3.7500000000000003e-05, 'epoch': 0.44}\n"
     ]
    },
    {
     "data": {
      "application/vnd.jupyter.widget-view+json": {
       "model_id": "27d39e09dc92410091df4b7b42e237d8",
       "version_major": 2,
       "version_minor": 0
      },
      "text/plain": [
       "  0%|          | 0/15 [00:00<?, ?it/s]"
      ]
     },
     "metadata": {},
     "output_type": "display_data"
    },
    {
     "name": "stdout",
     "output_type": "stream",
     "text": [
      "{'eval_loss': 1.070456862449646, 'eval_runtime': 1.74, 'eval_samples_per_second': 68.389, 'eval_steps_per_second': 8.621, 'epoch': 0.44}\n",
      "{'loss': 1.0647, 'grad_norm': 1.8650751113891602, 'learning_rate': 3.7e-05, 'epoch': 0.46}\n",
      "{'loss': 1.0536, 'grad_norm': 1.890910267829895, 'learning_rate': 3.65e-05, 'epoch': 0.48}\n",
      "{'loss': 1.0613, 'grad_norm': 1.9998141527175903, 'learning_rate': 3.6e-05, 'epoch': 0.5}\n",
      "{'loss': 1.0283, 'grad_norm': 1.8739168643951416, 'learning_rate': 3.55e-05, 'epoch': 0.51}\n",
      "{'loss': 1.0292, 'grad_norm': 1.829868197441101, 'learning_rate': 3.5e-05, 'epoch': 0.53}\n"
     ]
    },
    {
     "data": {
      "application/vnd.jupyter.widget-view+json": {
       "model_id": "0a8e73c4e1254e6ebe5b1893b5febe90",
       "version_major": 2,
       "version_minor": 0
      },
      "text/plain": [
       "  0%|          | 0/15 [00:00<?, ?it/s]"
      ]
     },
     "metadata": {},
     "output_type": "display_data"
    },
    {
     "name": "stdout",
     "output_type": "stream",
     "text": [
      "{'eval_loss': 1.06147301197052, 'eval_runtime': 1.7781, 'eval_samples_per_second': 66.927, 'eval_steps_per_second': 8.436, 'epoch': 0.53}\n",
      "{'loss': 1.0241, 'grad_norm': 2.1467599868774414, 'learning_rate': 3.45e-05, 'epoch': 0.55}\n",
      "{'loss': 1.0228, 'grad_norm': 1.9443696737289429, 'learning_rate': 3.4000000000000007e-05, 'epoch': 0.57}\n",
      "{'loss': 1.076, 'grad_norm': 1.9639190435409546, 'learning_rate': 3.35e-05, 'epoch': 0.58}\n",
      "{'loss': 1.0508, 'grad_norm': 1.8710920810699463, 'learning_rate': 3.3e-05, 'epoch': 0.6}\n",
      "{'loss': 1.0034, 'grad_norm': 2.0145645141601562, 'learning_rate': 3.2500000000000004e-05, 'epoch': 0.62}\n"
     ]
    },
    {
     "data": {
      "application/vnd.jupyter.widget-view+json": {
       "model_id": "9de2b7d7f5ff407c9e0920c09735e88c",
       "version_major": 2,
       "version_minor": 0
      },
      "text/plain": [
       "  0%|          | 0/15 [00:00<?, ?it/s]"
      ]
     },
     "metadata": {},
     "output_type": "display_data"
    },
    {
     "name": "stdout",
     "output_type": "stream",
     "text": [
      "{'eval_loss': 1.054750919342041, 'eval_runtime': 1.7882, 'eval_samples_per_second': 66.548, 'eval_steps_per_second': 8.388, 'epoch': 0.62}\n",
      "{'loss': 1.0558, 'grad_norm': 1.778268575668335, 'learning_rate': 3.2000000000000005e-05, 'epoch': 0.64}\n",
      "{'loss': 1.073, 'grad_norm': 2.1645915508270264, 'learning_rate': 3.15e-05, 'epoch': 0.65}\n",
      "{'loss': 1.0177, 'grad_norm': 2.0232982635498047, 'learning_rate': 3.1e-05, 'epoch': 0.67}\n",
      "{'loss': 0.9862, 'grad_norm': 1.7660661935806274, 'learning_rate': 3.05e-05, 'epoch': 0.69}\n",
      "{'loss': 1.0065, 'grad_norm': 1.9037197828292847, 'learning_rate': 3e-05, 'epoch': 0.71}\n"
     ]
    },
    {
     "data": {
      "application/vnd.jupyter.widget-view+json": {
       "model_id": "0b632b1f1b0f406b9c914e187b8d3e2c",
       "version_major": 2,
       "version_minor": 0
      },
      "text/plain": [
       "  0%|          | 0/15 [00:00<?, ?it/s]"
      ]
     },
     "metadata": {},
     "output_type": "display_data"
    },
    {
     "name": "stdout",
     "output_type": "stream",
     "text": [
      "{'eval_loss': 1.0507935285568237, 'eval_runtime': 1.767, 'eval_samples_per_second': 67.347, 'eval_steps_per_second': 8.489, 'epoch': 0.71}\n",
      "{'loss': 1.0134, 'grad_norm': 1.9174270629882812, 'learning_rate': 2.95e-05, 'epoch': 0.73}\n",
      "{'loss': 0.9992, 'grad_norm': 2.037188768386841, 'learning_rate': 2.9e-05, 'epoch': 0.74}\n",
      "{'loss': 1.0716, 'grad_norm': 2.021606683731079, 'learning_rate': 2.8499999999999998e-05, 'epoch': 0.76}\n",
      "{'loss': 1.0657, 'grad_norm': 1.9803047180175781, 'learning_rate': 2.8000000000000003e-05, 'epoch': 0.78}\n",
      "{'loss': 1.0211, 'grad_norm': 1.8331705331802368, 'learning_rate': 2.7500000000000004e-05, 'epoch': 0.8}\n"
     ]
    },
    {
     "data": {
      "application/vnd.jupyter.widget-view+json": {
       "model_id": "49bdda81d5a14f8d80cc8a0ec283644a",
       "version_major": 2,
       "version_minor": 0
      },
      "text/plain": [
       "  0%|          | 0/15 [00:00<?, ?it/s]"
      ]
     },
     "metadata": {},
     "output_type": "display_data"
    },
    {
     "name": "stdout",
     "output_type": "stream",
     "text": [
      "{'eval_loss': 1.0426366329193115, 'eval_runtime': 1.7958, 'eval_samples_per_second': 66.264, 'eval_steps_per_second': 8.353, 'epoch': 0.8}\n",
      "{'loss': 1.0586, 'grad_norm': 2.0460615158081055, 'learning_rate': 2.7000000000000002e-05, 'epoch': 0.81}\n",
      "{'loss': 1.0204, 'grad_norm': 1.9825894832611084, 'learning_rate': 2.6500000000000004e-05, 'epoch': 0.83}\n",
      "{'loss': 1.0521, 'grad_norm': 2.0203707218170166, 'learning_rate': 2.6000000000000002e-05, 'epoch': 0.85}\n",
      "{'loss': 1.0505, 'grad_norm': 1.7883158922195435, 'learning_rate': 2.5500000000000003e-05, 'epoch': 0.87}\n",
      "{'loss': 1.0762, 'grad_norm': 2.0216474533081055, 'learning_rate': 2.5e-05, 'epoch': 0.88}\n"
     ]
    },
    {
     "data": {
      "application/vnd.jupyter.widget-view+json": {
       "model_id": "d3aa81cab31944a3a7b17f65bbd6f604",
       "version_major": 2,
       "version_minor": 0
      },
      "text/plain": [
       "  0%|          | 0/15 [00:00<?, ?it/s]"
      ]
     },
     "metadata": {},
     "output_type": "display_data"
    },
    {
     "name": "stdout",
     "output_type": "stream",
     "text": [
      "{'eval_loss': 1.0337257385253906, 'eval_runtime': 1.7931, 'eval_samples_per_second': 66.365, 'eval_steps_per_second': 8.365, 'epoch': 0.88}\n",
      "{'loss': 1.0084, 'grad_norm': 1.8724485635757446, 'learning_rate': 2.45e-05, 'epoch': 0.9}\n",
      "{'loss': 1.0324, 'grad_norm': 2.085184335708618, 'learning_rate': 2.4e-05, 'epoch': 0.92}\n",
      "{'loss': 0.9957, 'grad_norm': 1.787259817123413, 'learning_rate': 2.35e-05, 'epoch': 0.94}\n",
      "{'loss': 1.0472, 'grad_norm': 1.9167176485061646, 'learning_rate': 2.3000000000000003e-05, 'epoch': 0.96}\n",
      "{'loss': 0.9907, 'grad_norm': 1.8368147611618042, 'learning_rate': 2.25e-05, 'epoch': 0.97}\n"
     ]
    },
    {
     "data": {
      "application/vnd.jupyter.widget-view+json": {
       "model_id": "c64268e5d44748f1b66c0dbe2e43373c",
       "version_major": 2,
       "version_minor": 0
      },
      "text/plain": [
       "  0%|          | 0/15 [00:00<?, ?it/s]"
      ]
     },
     "metadata": {},
     "output_type": "display_data"
    },
    {
     "name": "stdout",
     "output_type": "stream",
     "text": [
      "{'eval_loss': 1.0282689332962036, 'eval_runtime': 1.7976, 'eval_samples_per_second': 66.201, 'eval_steps_per_second': 8.345, 'epoch': 0.97}\n",
      "{'loss': 0.9813, 'grad_norm': 1.9093246459960938, 'learning_rate': 2.2000000000000003e-05, 'epoch': 0.99}\n",
      "{'loss': 0.8858, 'grad_norm': 1.7717000246047974, 'learning_rate': 2.15e-05, 'epoch': 1.01}\n",
      "{'loss': 0.8192, 'grad_norm': 1.9698113203048706, 'learning_rate': 2.1e-05, 'epoch': 1.03}\n",
      "{'loss': 0.7688, 'grad_norm': 1.7707059383392334, 'learning_rate': 2.05e-05, 'epoch': 1.04}\n",
      "{'loss': 0.8018, 'grad_norm': 1.7979830503463745, 'learning_rate': 2e-05, 'epoch': 1.06}\n"
     ]
    },
    {
     "data": {
      "application/vnd.jupyter.widget-view+json": {
       "model_id": "14d770f4c36b4a68b0a045f930365a3d",
       "version_major": 2,
       "version_minor": 0
      },
      "text/plain": [
       "  0%|          | 0/15 [00:00<?, ?it/s]"
      ]
     },
     "metadata": {},
     "output_type": "display_data"
    },
    {
     "name": "stdout",
     "output_type": "stream",
     "text": [
      "{'eval_loss': 1.0330902338027954, 'eval_runtime': 1.8073, 'eval_samples_per_second': 65.842, 'eval_steps_per_second': 8.299, 'epoch': 1.06}\n",
      "{'loss': 0.8795, 'grad_norm': 1.8800157308578491, 'learning_rate': 1.9500000000000003e-05, 'epoch': 1.08}\n",
      "{'loss': 0.8653, 'grad_norm': 1.7579073905944824, 'learning_rate': 1.9e-05, 'epoch': 1.1}\n",
      "{'loss': 0.8589, 'grad_norm': 1.6870726346969604, 'learning_rate': 1.85e-05, 'epoch': 1.12}\n",
      "{'loss': 0.8052, 'grad_norm': 1.5876880884170532, 'learning_rate': 1.8e-05, 'epoch': 1.13}\n",
      "{'loss': 0.812, 'grad_norm': 1.8073313236236572, 'learning_rate': 1.75e-05, 'epoch': 1.15}\n"
     ]
    },
    {
     "data": {
      "application/vnd.jupyter.widget-view+json": {
       "model_id": "81f4eac10aca48f5b3ddeea43261f61c",
       "version_major": 2,
       "version_minor": 0
      },
      "text/plain": [
       "  0%|          | 0/15 [00:00<?, ?it/s]"
      ]
     },
     "metadata": {},
     "output_type": "display_data"
    },
    {
     "name": "stdout",
     "output_type": "stream",
     "text": [
      "{'eval_loss': 1.0298964977264404, 'eval_runtime': 1.7692, 'eval_samples_per_second': 67.262, 'eval_steps_per_second': 8.478, 'epoch': 1.15}\n",
      "{'loss': 0.8324, 'grad_norm': 1.8108274936676025, 'learning_rate': 1.7000000000000003e-05, 'epoch': 1.17}\n",
      "{'loss': 0.7995, 'grad_norm': 1.8695076704025269, 'learning_rate': 1.65e-05, 'epoch': 1.19}\n",
      "{'loss': 0.804, 'grad_norm': 1.7573591470718384, 'learning_rate': 1.6000000000000003e-05, 'epoch': 1.2}\n",
      "{'loss': 0.8219, 'grad_norm': 1.7896698713302612, 'learning_rate': 1.55e-05, 'epoch': 1.22}\n",
      "{'loss': 0.7538, 'grad_norm': 2.068171262741089, 'learning_rate': 1.5e-05, 'epoch': 1.24}\n"
     ]
    },
    {
     "data": {
      "application/vnd.jupyter.widget-view+json": {
       "model_id": "d74d297e795e4e65adc8f8587463da14",
       "version_major": 2,
       "version_minor": 0
      },
      "text/plain": [
       "  0%|          | 0/15 [00:00<?, ?it/s]"
      ]
     },
     "metadata": {},
     "output_type": "display_data"
    },
    {
     "name": "stdout",
     "output_type": "stream",
     "text": [
      "{'eval_loss': 1.0311468839645386, 'eval_runtime': 1.7963, 'eval_samples_per_second': 66.247, 'eval_steps_per_second': 8.35, 'epoch': 1.24}\n",
      "{'loss': 0.7949, 'grad_norm': 1.8474620580673218, 'learning_rate': 1.45e-05, 'epoch': 1.26}\n",
      "{'loss': 0.8761, 'grad_norm': 1.9493488073349, 'learning_rate': 1.4000000000000001e-05, 'epoch': 1.27}\n",
      "{'loss': 0.8179, 'grad_norm': 1.7645585536956787, 'learning_rate': 1.3500000000000001e-05, 'epoch': 1.29}\n",
      "{'loss': 0.8102, 'grad_norm': 1.7785208225250244, 'learning_rate': 1.3000000000000001e-05, 'epoch': 1.31}\n",
      "{'loss': 0.8559, 'grad_norm': 2.046368360519409, 'learning_rate': 1.25e-05, 'epoch': 1.33}\n"
     ]
    },
    {
     "data": {
      "application/vnd.jupyter.widget-view+json": {
       "model_id": "92a12b10087b429ea1230717325e20df",
       "version_major": 2,
       "version_minor": 0
      },
      "text/plain": [
       "  0%|          | 0/15 [00:00<?, ?it/s]"
      ]
     },
     "metadata": {},
     "output_type": "display_data"
    },
    {
     "name": "stdout",
     "output_type": "stream",
     "text": [
      "{'eval_loss': 1.0284537076950073, 'eval_runtime': 1.7947, 'eval_samples_per_second': 66.307, 'eval_steps_per_second': 8.358, 'epoch': 1.33}\n",
      "{'loss': 0.7838, 'grad_norm': 1.7281277179718018, 'learning_rate': 1.2e-05, 'epoch': 1.35}\n",
      "{'loss': 0.8395, 'grad_norm': 1.883399486541748, 'learning_rate': 1.1500000000000002e-05, 'epoch': 1.36}\n",
      "{'loss': 0.816, 'grad_norm': 1.950889229774475, 'learning_rate': 1.1000000000000001e-05, 'epoch': 1.38}\n",
      "{'loss': 0.8421, 'grad_norm': 1.8379067182540894, 'learning_rate': 1.05e-05, 'epoch': 1.4}\n",
      "{'loss': 0.8103, 'grad_norm': 1.8860374689102173, 'learning_rate': 1e-05, 'epoch': 1.42}\n"
     ]
    },
    {
     "data": {
      "application/vnd.jupyter.widget-view+json": {
       "model_id": "badbc504a0ef4f90b6814c17a102d546",
       "version_major": 2,
       "version_minor": 0
      },
      "text/plain": [
       "  0%|          | 0/15 [00:00<?, ?it/s]"
      ]
     },
     "metadata": {},
     "output_type": "display_data"
    },
    {
     "name": "stdout",
     "output_type": "stream",
     "text": [
      "{'eval_loss': 1.0249099731445312, 'eval_runtime': 1.7937, 'eval_samples_per_second': 66.342, 'eval_steps_per_second': 8.362, 'epoch': 1.42}\n",
      "{'loss': 0.8001, 'grad_norm': 1.8514376878738403, 'learning_rate': 9.5e-06, 'epoch': 1.43}\n",
      "{'loss': 0.79, 'grad_norm': 1.8658838272094727, 'learning_rate': 9e-06, 'epoch': 1.45}\n",
      "{'loss': 0.8109, 'grad_norm': 1.7292579412460327, 'learning_rate': 8.500000000000002e-06, 'epoch': 1.47}\n",
      "{'loss': 0.8278, 'grad_norm': 1.7971333265304565, 'learning_rate': 8.000000000000001e-06, 'epoch': 1.49}\n",
      "{'loss': 0.7769, 'grad_norm': 1.776015281677246, 'learning_rate': 7.5e-06, 'epoch': 1.5}\n"
     ]
    },
    {
     "data": {
      "application/vnd.jupyter.widget-view+json": {
       "model_id": "9f707667c88d4a4f937044e3758d6f93",
       "version_major": 2,
       "version_minor": 0
      },
      "text/plain": [
       "  0%|          | 0/15 [00:00<?, ?it/s]"
      ]
     },
     "metadata": {},
     "output_type": "display_data"
    },
    {
     "name": "stdout",
     "output_type": "stream",
     "text": [
      "{'eval_loss': 1.0252941846847534, 'eval_runtime': 1.7851, 'eval_samples_per_second': 66.664, 'eval_steps_per_second': 8.403, 'epoch': 1.5}\n",
      "{'loss': 0.7921, 'grad_norm': 1.8739635944366455, 'learning_rate': 7.000000000000001e-06, 'epoch': 1.52}\n",
      "{'loss': 0.7847, 'grad_norm': 1.9064725637435913, 'learning_rate': 6.5000000000000004e-06, 'epoch': 1.54}\n",
      "{'loss': 0.8347, 'grad_norm': 1.8188525438308716, 'learning_rate': 6e-06, 'epoch': 1.56}\n",
      "{'loss': 0.8143, 'grad_norm': 1.6828362941741943, 'learning_rate': 5.500000000000001e-06, 'epoch': 1.58}\n",
      "{'loss': 0.8237, 'grad_norm': 1.8386030197143555, 'learning_rate': 5e-06, 'epoch': 1.59}\n"
     ]
    },
    {
     "data": {
      "application/vnd.jupyter.widget-view+json": {
       "model_id": "88ee38805fc54b8bb8f8a3d44124d02a",
       "version_major": 2,
       "version_minor": 0
      },
      "text/plain": [
       "  0%|          | 0/15 [00:00<?, ?it/s]"
      ]
     },
     "metadata": {},
     "output_type": "display_data"
    },
    {
     "name": "stdout",
     "output_type": "stream",
     "text": [
      "{'eval_loss': 1.022836446762085, 'eval_runtime': 1.7767, 'eval_samples_per_second': 66.977, 'eval_steps_per_second': 8.442, 'epoch': 1.59}\n",
      "{'loss': 0.8331, 'grad_norm': 1.7076376676559448, 'learning_rate': 4.5e-06, 'epoch': 1.61}\n",
      "{'loss': 0.8059, 'grad_norm': 1.8048986196517944, 'learning_rate': 4.000000000000001e-06, 'epoch': 1.63}\n",
      "{'loss': 0.8107, 'grad_norm': 2.0719711780548096, 'learning_rate': 3.5000000000000004e-06, 'epoch': 1.65}\n",
      "{'loss': 0.7932, 'grad_norm': 1.7175122499465942, 'learning_rate': 3e-06, 'epoch': 1.66}\n",
      "{'loss': 0.8623, 'grad_norm': 1.9925261735916138, 'learning_rate': 2.5e-06, 'epoch': 1.68}\n"
     ]
    },
    {
     "data": {
      "application/vnd.jupyter.widget-view+json": {
       "model_id": "5ee1fd04aab6463c82c20eabae28986f",
       "version_major": 2,
       "version_minor": 0
      },
      "text/plain": [
       "  0%|          | 0/15 [00:00<?, ?it/s]"
      ]
     },
     "metadata": {},
     "output_type": "display_data"
    },
    {
     "name": "stdout",
     "output_type": "stream",
     "text": [
      "{'eval_loss': 1.021671175956726, 'eval_runtime': 1.7935, 'eval_samples_per_second': 66.352, 'eval_steps_per_second': 8.364, 'epoch': 1.68}\n",
      "{'loss': 0.8609, 'grad_norm': 1.8237701654434204, 'learning_rate': 2.0000000000000003e-06, 'epoch': 1.7}\n",
      "{'loss': 0.7802, 'grad_norm': 1.7281394004821777, 'learning_rate': 1.5e-06, 'epoch': 1.72}\n",
      "{'loss': 0.7957, 'grad_norm': 1.7798895835876465, 'learning_rate': 1.0000000000000002e-06, 'epoch': 1.73}\n",
      "{'loss': 0.8345, 'grad_norm': 1.7968873977661133, 'learning_rate': 5.000000000000001e-07, 'epoch': 1.75}\n",
      "{'loss': 0.7915, 'grad_norm': 1.764422059059143, 'learning_rate': 0.0, 'epoch': 1.77}\n"
     ]
    },
    {
     "data": {
      "application/vnd.jupyter.widget-view+json": {
       "model_id": "7065087fb7504a98bf924ed359ecd1af",
       "version_major": 2,
       "version_minor": 0
      },
      "text/plain": [
       "  0%|          | 0/15 [00:00<?, ?it/s]"
      ]
     },
     "metadata": {},
     "output_type": "display_data"
    },
    {
     "name": "stdout",
     "output_type": "stream",
     "text": [
      "{'eval_loss': 1.0214849710464478, 'eval_runtime': 1.7872, 'eval_samples_per_second': 66.585, 'eval_steps_per_second': 8.393, 'epoch': 1.77}\n",
      "{'train_runtime': 272.3049, 'train_samples_per_second': 14.689, 'train_steps_per_second': 3.672, 'train_loss': 0.9605711183547974, 'epoch': 1.77}\n"
     ]
    },
    {
     "data": {
      "text/plain": [
       "TrainOutput(global_step=1000, training_loss=0.9605711183547974, metrics={'train_runtime': 272.3049, 'train_samples_per_second': 14.689, 'train_steps_per_second': 3.672, 'total_flos': 587568496250880.0, 'train_loss': 0.9605711183547974, 'epoch': 1.7699115044247788})"
      ]
     },
     "execution_count": 13,
     "metadata": {},
     "output_type": "execute_result"
    }
   ],
   "source": [
    "# This places a huge load on the GPU ... 97% usage ... 5032MiB used!\n",
    "# Train the model\n",
    "trainer.train()\n",
    "\n",
    "# 4m 32.3s"
   ]
  },
  {
   "cell_type": "code",
   "execution_count": 14,
   "metadata": {},
   "outputs": [],
   "source": [
    "# Save the model\n",
    "trainer.save_model(f\"./{finetune_name}\")"
   ]
  },
  {
   "cell_type": "code",
   "execution_count": 15,
   "metadata": {},
   "outputs": [],
   "source": [
    "# Nope! I am not gonna do this!\n",
    "# trainer.push_to_hub(tags=finetune_tags)"
   ]
  },
  {
   "cell_type": "markdown",
   "metadata": {},
   "source": [
    "<div style='background-color: lightblue; padding: 10px; border-radius: 5px; margin-bottom: 20px; color:black'>\n",
    "    <h2 style='margin: 0;color:blue'>Bonus Exercise: Generate with fine-tuned model</h2>\n",
    "    <p>🐕 Use the fine-tuned to model generate a response, just like with the base example..</p>\n",
    "</div>"
   ]
  },
  {
   "cell_type": "code",
   "execution_count": 16,
   "metadata": {},
   "outputs": [],
   "source": [
    "# Test the fine-tuned model on the same prompt\n",
    "\n",
    "# Let's test the base model before training\n",
    "prompt = \"Write a haiku about programming\"\n",
    "\n",
    "# Format with template\n",
    "messages = [{\"role\": \"user\", \"content\": prompt}]\n",
    "formatted_prompt = tokenizer.apply_chat_template(messages, tokenize=False)\n",
    "\n",
    "# Generate response\n",
    "inputs = tokenizer(formatted_prompt, return_tensors=\"pt\").to(device)\n",
    "\n",
    "# TODO: use the fine-tuned to model generate a response, just like with the base example."
   ]
  },
  {
   "cell_type": "markdown",
   "metadata": {},
   "source": [
    "## 💐 You're done!\n",
    "\n",
    "This notebook provided a step-by-step guide to fine-tuning the `HuggingFaceTB/SmolLM2-135M` model using the `SFTTrainer`. By following these steps, you can adapt the model to perform specific tasks more effectively. If you want to carry on working on this course, here are steps you could try out:\n",
    "\n",
    "- Try this notebook on a harder difficulty\n",
    "- Review a colleagues PR\n",
    "- Improve the course material via an Issue or PR."
   ]
  }
 ],
 "metadata": {
  "kernelspec": {
   "display_name": ".venv",
   "language": "python",
   "name": "python3"
  },
  "language_info": {
   "codemirror_mode": {
    "name": "ipython",
    "version": 3
   },
   "file_extension": ".py",
   "mimetype": "text/x-python",
   "name": "python",
   "nbconvert_exporter": "python",
   "pygments_lexer": "ipython3",
   "version": "3.11.8"
  }
 },
 "nbformat": 4,
 "nbformat_minor": 2
}
