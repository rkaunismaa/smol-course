{
 "cells": [
  {
   "cell_type": "markdown",
   "metadata": {},
   "source": [
    "#### Tuesday, January 14, 2025\n",
    "\n",
    "Wow, really, this notebook required I 'pip install peft', which replace a ton of already installed libraries?? "
   ]
  },
  {
   "cell_type": "code",
   "execution_count": 1,
   "metadata": {},
   "outputs": [],
   "source": [
    "# only target the 4090 ...\n",
    "import os\n",
    "os.environ[\"CUDA_VISIBLE_DEVICES\"]=\"0\""
   ]
  },
  {
   "cell_type": "markdown",
   "metadata": {
    "id": "z-6LLOPZouLg"
   },
   "source": [
    "# How to Fine-Tune LLMs with LoRA Adapters using Hugging Face TRL\n",
    "\n",
    "This notebook demonstrates how to efficiently fine-tune large language models using LoRA (Low-Rank Adaptation) adapters. LoRA is a parameter-efficient fine-tuning technique that:\n",
    "- Freezes the pre-trained model weights\n",
    "- Adds small trainable rank decomposition matrices to attention layers\n",
    "- Typically reduces trainable parameters by ~90%\n",
    "- Maintains model performance while being memory efficient\n",
    "\n",
    "We'll cover:\n",
    "1. Setup development environment and LoRA configuration\n",
    "2. Create and prepare the dataset for adapter training\n",
    "3. Fine-tune using `trl` and `SFTTrainer` with LoRA adapters\n",
    "4. Test the model and merge adapters (optional)\n"
   ]
  },
  {
   "cell_type": "markdown",
   "metadata": {
    "id": "fXqd9BXgouLi"
   },
   "source": [
    "## 1. Setup development environment\n",
    "\n",
    "Our first step is to install Hugging Face Libraries and Pytorch, including trl, transformers and datasets. If you haven't heard of trl yet, don't worry. It is a new library on top of transformers and datasets, which makes it easier to fine-tune, rlhf, align open LLMs.\n"
   ]
  },
  {
   "cell_type": "code",
   "execution_count": 2,
   "metadata": {
    "id": "tKvGVxImouLi"
   },
   "outputs": [
    {
     "data": {
      "application/vnd.jupyter.widget-view+json": {
       "model_id": "41cf3d7cfdac40619c2aa35bbad9367f",
       "version_major": 2,
       "version_minor": 0
      },
      "text/plain": [
       "VBox(children=(HTML(value='<center> <img\\nsrc=https://huggingface.co/front/assets/huggingface_logo-noborder.sv…"
      ]
     },
     "metadata": {},
     "output_type": "display_data"
    },
    {
     "name": "stderr",
     "output_type": "stream",
     "text": [
      "Token has not been saved to git credential helper.\n"
     ]
    }
   ],
   "source": [
    "# Install the requirements in Google Colab\n",
    "# !pip install transformers datasets trl huggingface_hub\n",
    "\n",
    "# Authenticate to Hugging Face\n",
    "\n",
    "from huggingface_hub import login\n",
    "\n",
    "login()\n",
    "\n",
    "# for convenience you can create an environment variable containing your hub token as HF_TOKEN"
   ]
  },
  {
   "cell_type": "markdown",
   "metadata": {
    "id": "XHUzfwpKouLk"
   },
   "source": [
    "## 2. Load the dataset"
   ]
  },
  {
   "cell_type": "code",
   "execution_count": 3,
   "metadata": {
    "id": "z4p6Bvo7ouLk"
   },
   "outputs": [
    {
     "data": {
      "text/plain": [
       "DatasetDict({\n",
       "    train: Dataset({\n",
       "        features: ['full_topic', 'messages'],\n",
       "        num_rows: 2260\n",
       "    })\n",
       "    test: Dataset({\n",
       "        features: ['full_topic', 'messages'],\n",
       "        num_rows: 119\n",
       "    })\n",
       "})"
      ]
     },
     "execution_count": 3,
     "metadata": {},
     "output_type": "execute_result"
    }
   ],
   "source": [
    "# Load a sample dataset\n",
    "from datasets import load_dataset\n",
    "\n",
    "# TODO: define your dataset and config using the path and name parameters\n",
    "dataset = load_dataset(path=\"HuggingFaceTB/smoltalk\", name=\"everyday-conversations\")\n",
    "dataset"
   ]
  },
  {
   "cell_type": "markdown",
   "metadata": {
    "id": "9TOhJdtsouLk"
   },
   "source": [
    "## 3. Fine-tune LLM using `trl` and the `SFTTrainer` with LoRA\n",
    "\n",
    "The [SFTTrainer](https://huggingface.co/docs/trl/sft_trainer) from `trl` provides integration with LoRA adapters through the [PEFT](https://huggingface.co/docs/peft/en/index) library. Key advantages of this setup include:\n",
    "\n",
    "1. **Memory Efficiency**: \n",
    "   - Only adapter parameters are stored in GPU memory\n",
    "   - Base model weights remain frozen and can be loaded in lower precision\n",
    "   - Enables fine-tuning of large models on consumer GPUs\n",
    "\n",
    "2. **Training Features**:\n",
    "   - Native PEFT/LoRA integration with minimal setup\n",
    "   - Support for QLoRA (Quantized LoRA) for even better memory efficiency\n",
    "\n",
    "3. **Adapter Management**:\n",
    "   - Adapter weight saving during checkpoints\n",
    "   - Features to merge adapters back into base model\n",
    "\n",
    "We'll use LoRA in our example, which combines LoRA with 4-bit quantization to further reduce memory usage without sacrificing performance. The setup requires just a few configuration steps:\n",
    "1. Define the LoRA configuration (rank, alpha, dropout)\n",
    "2. Create the SFTTrainer with PEFT config\n",
    "3. Train and save the adapter weights\n"
   ]
  },
  {
   "cell_type": "code",
   "execution_count": 4,
   "metadata": {},
   "outputs": [
    {
     "data": {
      "text/plain": [
       "'cuda'"
      ]
     },
     "execution_count": 4,
     "metadata": {},
     "output_type": "execute_result"
    }
   ],
   "source": [
    "# Import necessary libraries\n",
    "from transformers import AutoModelForCausalLM, AutoTokenizer\n",
    "from datasets import load_dataset\n",
    "from trl import SFTConfig, SFTTrainer, setup_chat_format\n",
    "import torch\n",
    "\n",
    "device = (\n",
    "    \"cuda\"\n",
    "    if torch.cuda.is_available()\n",
    "    else \"mps\" if torch.backends.mps.is_available() else \"cpu\"\n",
    ")\n",
    "device"
   ]
  },
  {
   "cell_type": "code",
   "execution_count": 5,
   "metadata": {},
   "outputs": [],
   "source": [
    "# Load the model and tokenizer\n",
    "model_name = \"HuggingFaceTB/SmolLM2-135M\""
   ]
  },
  {
   "cell_type": "code",
   "execution_count": 6,
   "metadata": {},
   "outputs": [],
   "source": [
    "model = AutoModelForCausalLM.from_pretrained(\n",
    "    pretrained_model_name_or_path=model_name\n",
    ").to(device)\n",
    "tokenizer = AutoTokenizer.from_pretrained(pretrained_model_name_or_path=model_name)"
   ]
  },
  {
   "cell_type": "code",
   "execution_count": 7,
   "metadata": {},
   "outputs": [],
   "source": [
    "# Set up the chat format\n",
    "model, tokenizer = setup_chat_format(model=model, tokenizer=tokenizer)"
   ]
  },
  {
   "cell_type": "code",
   "execution_count": 8,
   "metadata": {},
   "outputs": [],
   "source": [
    "# Set our name for the finetune to be saved &/ uploaded to\n",
    "finetune_name = \"SmolLM2-FT-MyDataset\"\n",
    "finetune_tags = [\"smol-course\", \"module_1\"]"
   ]
  },
  {
   "cell_type": "markdown",
   "metadata": {
    "id": "ZbuVArTHouLk"
   },
   "source": [
    "The `SFTTrainer`  supports a native integration with `peft`, which makes it super easy to efficiently tune LLMs using, e.g. LoRA. We only need to create our `LoraConfig` and provide it to the trainer.\n",
    "\n",
    "<div style='background-color: lightblue; padding: 10px; border-radius: 5px; margin-bottom: 20px; color:black'>\n",
    "    <h2 style='margin: 0;color:blue'>Exercise: Define LoRA parameters for finetuning</h2>\n",
    "    <p>Take a dataset from the Hugging Face hub and finetune a model on it. </p> \n",
    "    <p><b>Difficulty Levels</b></p>\n",
    "    <p>🐢 Use the general parameters for an abitrary finetune</p>\n",
    "    <p>🐕 Adjust the parameters and review in weights & biases.</p>\n",
    "    <p>🦁 Adjust the parameters and show change in inference results.</p>\n",
    "</div>"
   ]
  },
  {
   "cell_type": "code",
   "execution_count": 9,
   "metadata": {
    "id": "blDSs9swouLk"
   },
   "outputs": [],
   "source": [
    "from peft import LoraConfig\n",
    "\n",
    "# TODO: Configure LoRA parameters\n",
    "# r: rank dimension for LoRA update matrices (smaller = more compression)\n",
    "rank_dimension = 6\n",
    "# lora_alpha: scaling factor for LoRA layers (higher = stronger adaptation)\n",
    "lora_alpha = 8\n",
    "# lora_dropout: dropout probability for LoRA layers (helps prevent overfitting)\n",
    "lora_dropout = 0.05\n",
    "\n",
    "peft_config = LoraConfig(\n",
    "    r=rank_dimension,  # Rank dimension - typically between 4-32\n",
    "    lora_alpha=lora_alpha,  # LoRA scaling factor - typically 2x rank\n",
    "    lora_dropout=lora_dropout,  # Dropout probability for LoRA layers\n",
    "    bias=\"none\",  # Bias type for LoRA. the corresponding biases will be updated during training.\n",
    "    target_modules=\"all-linear\",  # Which modules to apply LoRA to\n",
    "    task_type=\"CAUSAL_LM\",  # Task type for model architecture\n",
    ")"
   ]
  },
  {
   "cell_type": "markdown",
   "metadata": {
    "id": "l5NUDPcaouLl"
   },
   "source": [
    "Before we can start our training we need to define the hyperparameters (`TrainingArguments`) we want to use."
   ]
  },
  {
   "cell_type": "code",
   "execution_count": 10,
   "metadata": {
    "id": "NqT28VZlouLl"
   },
   "outputs": [],
   "source": [
    "# Training configuration\n",
    "# Hyperparameters based on QLoRA paper recommendations\n",
    "args = SFTConfig(\n",
    "    # Output settings\n",
    "    output_dir=finetune_name,  # Directory to save model checkpoints\n",
    "    # Training duration\n",
    "    num_train_epochs=1,  # Number of training epochs\n",
    "    # Batch size settings\n",
    "    per_device_train_batch_size=2,  # Batch size per GPU\n",
    "    gradient_accumulation_steps=2,  # Accumulate gradients for larger effective batch\n",
    "    # Memory optimization\n",
    "    gradient_checkpointing=True,  # Trade compute for memory savings\n",
    "    # Optimizer settings\n",
    "    optim=\"adamw_torch_fused\",  # Use fused AdamW for efficiency\n",
    "    learning_rate=2e-4,  # Learning rate (QLoRA paper)\n",
    "    max_grad_norm=0.3,  # Gradient clipping threshold\n",
    "    # Learning rate schedule\n",
    "    warmup_ratio=0.03,  # Portion of steps for warmup\n",
    "    lr_scheduler_type=\"constant\",  # Keep learning rate constant after warmup\n",
    "    # Logging and saving\n",
    "    logging_steps=10,  # Log metrics every N steps\n",
    "    save_strategy=\"epoch\",  # Save checkpoint every epoch\n",
    "    # Precision settings\n",
    "    bf16=True,  # Use bfloat16 precision\n",
    "    # Integration settings\n",
    "    push_to_hub=False,  # Don't push to HuggingFace Hub\n",
    "    report_to=\"none\",  # Disable external logging\n",
    ")"
   ]
  },
  {
   "cell_type": "markdown",
   "metadata": {
    "id": "cGhR7uFBouLl"
   },
   "source": [
    "We now have every building block we need to create our `SFTTrainer` to start then training our model."
   ]
  },
  {
   "cell_type": "code",
   "execution_count": 11,
   "metadata": {},
   "outputs": [],
   "source": [
    "max_seq_length = 1512  # max sequence length for model and packing of the dataset"
   ]
  },
  {
   "cell_type": "code",
   "execution_count": 12,
   "metadata": {
    "id": "M00Har2douLl"
   },
   "outputs": [
    {
     "name": "stderr",
     "output_type": "stream",
     "text": [
      "/home/rob/Data/Documents/Github/rkaunismaa/smol-course/.venv/lib/python3.11/site-packages/huggingface_hub/utils/_deprecation.py:100: FutureWarning: Deprecated argument(s) used in '__init__': max_seq_length, packing, dataset_kwargs. Will not be supported from version '0.13.0'.\n",
      "\n",
      "Deprecated positional argument(s) used in SFTTrainer, please use the SFTConfig to set these arguments instead.\n",
      "  warnings.warn(message, FutureWarning)\n",
      "/home/rob/Data/Documents/Github/rkaunismaa/smol-course/.venv/lib/python3.11/site-packages/trl/trainer/sft_trainer.py:212: UserWarning: You passed a `packing` argument to the SFTTrainer, the value you passed will override the one in the `SFTConfig`.\n",
      "  warnings.warn(\n",
      "/home/rob/Data/Documents/Github/rkaunismaa/smol-course/.venv/lib/python3.11/site-packages/trl/trainer/sft_trainer.py:300: UserWarning: You passed a `max_seq_length` argument to the SFTTrainer, the value you passed will override the one in the `SFTConfig`.\n",
      "  warnings.warn(\n",
      "/home/rob/Data/Documents/Github/rkaunismaa/smol-course/.venv/lib/python3.11/site-packages/trl/trainer/sft_trainer.py:334: UserWarning: You passed a `dataset_kwargs` argument to the SFTTrainer, the value you passed will override the one in the `SFTConfig`.\n",
      "  warnings.warn(\n"
     ]
    }
   ],
   "source": [
    "# Create SFTTrainer with LoRA configuration\n",
    "trainer = SFTTrainer(\n",
    "    model=model,\n",
    "    args=args,\n",
    "    train_dataset=dataset[\"train\"],\n",
    "    peft_config=peft_config,  # LoRA configuration\n",
    "    max_seq_length=max_seq_length,  # Maximum sequence length\n",
    "    tokenizer=tokenizer,\n",
    "    packing=True,  # Enable input packing for efficiency\n",
    "    dataset_kwargs={\n",
    "        \"add_special_tokens\": False,  # Special tokens handled by template\n",
    "        \"append_concat_token\": False,  # No additional separator needed\n",
    "    },\n",
    ")"
   ]
  },
  {
   "cell_type": "markdown",
   "metadata": {
    "id": "zQ_kRN24ouLl"
   },
   "source": [
    "Start training our model by calling the `train()` method on our `Trainer` instance. This will start the training loop and train our model for 3 epochs. Since we are using a PEFT method, we will only save the adapted model weights and not the full model."
   ]
  },
  {
   "cell_type": "code",
   "execution_count": null,
   "metadata": {},
   "outputs": [
    {
     "data": {
      "application/vnd.jupyter.widget-view+json": {
       "model_id": "e87eaacd0e2044609f9a5ace7fb3a077",
       "version_major": 2,
       "version_minor": 0
      },
      "text/plain": [
       "  0%|          | 0/72 [00:00<?, ?it/s]"
      ]
     },
     "metadata": {},
     "output_type": "display_data"
    },
    {
     "name": "stderr",
     "output_type": "stream",
     "text": [
      "`use_cache=True` is incompatible with gradient checkpointing. Setting `use_cache=False`.\n",
      "/home/rob/Data/Documents/Github/rkaunismaa/smol-course/.venv/lib/python3.11/site-packages/torch/utils/checkpoint.py:295: FutureWarning: `torch.cpu.amp.autocast(args...)` is deprecated. Please use `torch.amp.autocast('cpu', args...)` instead.\n",
      "  with torch.enable_grad(), device_autocast_ctx, torch.cpu.amp.autocast(**ctx.cpu_autocast_kwargs):  # type: ignore[attr-defined]\n"
     ]
    },
    {
     "name": "stdout",
     "output_type": "stream",
     "text": [
      "{'loss': 1.929, 'grad_norm': 0.15776748955249786, 'learning_rate': 0.0002, 'epoch': 0.14}\n",
      "{'loss': 1.7968, 'grad_norm': 0.15440396964550018, 'learning_rate': 0.0002, 'epoch': 0.28}\n",
      "{'loss': 1.7178, 'grad_norm': 0.12666839361190796, 'learning_rate': 0.0002, 'epoch': 0.41}\n",
      "{'loss': 1.6222, 'grad_norm': 0.1325642317533493, 'learning_rate': 0.0002, 'epoch': 0.55}\n",
      "{'loss': 1.5854, 'grad_norm': 0.14629130065441132, 'learning_rate': 0.0002, 'epoch': 0.69}\n",
      "{'loss': 1.5085, 'grad_norm': 0.12497824430465698, 'learning_rate': 0.0002, 'epoch': 0.83}\n",
      "{'loss': 1.473, 'grad_norm': 0.1345839500427246, 'learning_rate': 0.0002, 'epoch': 0.97}\n",
      "{'train_runtime': 219.485, 'train_samples_per_second': 1.321, 'train_steps_per_second': 0.328, 'train_loss': 1.6555671526326075, 'epoch': 0.99}\n"
     ]
    },
    {
     "data": {
      "text/plain": [
       "TrainOutput(global_step=72, training_loss=1.6555671526326075, metrics={'train_runtime': 219.485, 'train_samples_per_second': 1.321, 'train_steps_per_second': 0.328, 'total_flos': 282267289092096.0, 'train_loss': 1.6555671526326075, 'epoch': 0.993103448275862})"
      ]
     },
     "execution_count": 13,
     "metadata": {},
     "output_type": "execute_result"
    }
   ],
   "source": [
    "# start training, the model will be automatically saved to the hub and the output directory\n",
    "trainer.train()\n",
    "\n",
    "# 3m 39.5s on kitchen computer.\n",
    "\n",
    "# 36.2s on KAUTIWB\n",
    "\n",
    "# 3m 39.2s on kitchen computer."
   ]
  },
  {
   "cell_type": "code",
   "execution_count": 14,
   "metadata": {
    "id": "Tq4nIYqKouLl"
   },
   "outputs": [],
   "source": [
    "# save model\n",
    "trainer.save_model()"
   ]
  },
  {
   "cell_type": "markdown",
   "metadata": {
    "id": "y4HHSYYzouLl"
   },
   "source": [
    "The training with Flash Attention for 3 epochs with a dataset of 15k samples took 4:14:36 on a `g5.2xlarge`. The instance costs `1.21$/h` which brings us to a total cost of only ~`5.3$`.\n",
    "\n"
   ]
  },
  {
   "cell_type": "markdown",
   "metadata": {
    "id": "C309KsXjouLl"
   },
   "source": [
    "### Merge LoRA Adapter into the Original Model\n",
    "\n",
    "When using LoRA, we only train adapter weights while keeping the base model frozen. During training, we save only these lightweight adapter weights (~2-10MB) rather than a full model copy. However, for deployment, you might want to merge the adapters back into the base model for:\n",
    "\n",
    "1. **Simplified Deployment**: Single model file instead of base model + adapters\n",
    "2. **Inference Speed**: No adapter computation overhead\n",
    "3. **Framework Compatibility**: Better compatibility with serving frameworks\n"
   ]
  },
  {
   "cell_type": "code",
   "execution_count": 15,
   "metadata": {},
   "outputs": [],
   "source": [
    "from peft import AutoPeftModelForCausalLM\n",
    "\n",
    "\n",
    "# Load PEFT model on CPU\n",
    "model = AutoPeftModelForCausalLM.from_pretrained(\n",
    "    pretrained_model_name_or_path=args.output_dir,\n",
    "    torch_dtype=torch.float16,\n",
    "    low_cpu_mem_usage=True,\n",
    ")\n",
    "\n",
    "# Merge LoRA and base model and save\n",
    "merged_model = model.merge_and_unload()\n",
    "merged_model.save_pretrained(\n",
    "    args.output_dir, safe_serialization=True, max_shard_size=\"2GB\"\n",
    ")"
   ]
  },
  {
   "cell_type": "markdown",
   "metadata": {
    "id": "-yO6E9quouLl"
   },
   "source": [
    "## 3. Test Model and run Inference\n",
    "\n",
    "After the training is done we want to test our model. We will load different samples from the original dataset and evaluate the model on those samples, using a simple loop and accuracy as our metric.\n",
    "\n"
   ]
  },
  {
   "cell_type": "markdown",
   "metadata": {},
   "source": [
    "<div style='background-color: lightblue; padding: 10px; border-radius: 5px; margin-bottom: 20px; color:black'>\n",
    "    <h2 style='margin: 0;color:blue'>Bonus Exercise: Load LoRA Adapter</h2>\n",
    "    <p>Use what you learnt from the ecample note book to load your trained LoRA adapter for inference.</p> \n",
    "</div>"
   ]
  },
  {
   "cell_type": "code",
   "execution_count": 16,
   "metadata": {
    "id": "I5B494OdouLl"
   },
   "outputs": [],
   "source": [
    "# free the memory again\n",
    "del model\n",
    "del trainer\n",
    "torch.cuda.empty_cache()"
   ]
  },
  {
   "cell_type": "code",
   "execution_count": 17,
   "metadata": {
    "id": "P1UhohVdouLl"
   },
   "outputs": [],
   "source": [
    "import torch\n",
    "from peft import AutoPeftModelForCausalLM\n",
    "from transformers import AutoTokenizer, pipeline\n",
    "\n",
    "# Load Model with PEFT adapter\n",
    "tokenizer = AutoTokenizer.from_pretrained(finetune_name)\n",
    "\n",
    "model = AutoPeftModelForCausalLM.from_pretrained(\n",
    "    finetune_name, device_map=\"auto\", torch_dtype=torch.float16\n",
    ")"
   ]
  },
  {
   "cell_type": "code",
   "execution_count": 18,
   "metadata": {},
   "outputs": [],
   "source": [
    "pipe = pipeline(\n",
    "    \"text-generation\", model=merged_model, tokenizer=tokenizer, device=device\n",
    ")"
   ]
  },
  {
   "cell_type": "markdown",
   "metadata": {
    "id": "99uFDAuuouLl"
   },
   "source": [
    "Lets test some prompt samples and see how the model performs."
   ]
  },
  {
   "cell_type": "code",
   "execution_count": 40,
   "metadata": {},
   "outputs": [],
   "source": [
    "prompts = [\n",
    "    \"What is the capital of Germany? Explain why thats the case and if it was different in the past?\",\n",
    "    \"Write a Python function to calculate the factorial of a number.\",\n",
    "    \"A rectangular garden has a length of 25 feet and a width of 15 feet. If you want to build a fence around the entire garden, how many feet of fencing will you need?\",\n",
    "    \"What is the difference between a fruit and a vegetable? Give examples of each.\",\n",
    "]\n",
    "\n",
    "\n",
    "def test_inference(prompt):\n",
    "\n",
    "    prompt = pipe.tokenizer.apply_chat_template(\n",
    "        [{\"role\": \"user\", \"content\": prompt}],\n",
    "        tokenize=False,\n",
    "        add_generation_prompt=True,\n",
    "    )\n",
    "\n",
    "    outputs = pipe(\n",
    "        prompt, max_length=512\n",
    "    )\n",
    "\n",
    "    return outputs[0][\"generated_text\"][len(prompt) :].strip()"
   ]
  },
  {
   "cell_type": "code",
   "execution_count": 41,
   "metadata": {
    "id": "-shSmUbvouLl",
    "outputId": "16d97c61-3b31-4040-c780-3c4de75c3824"
   },
   "outputs": [
    {
     "name": "stdout",
     "output_type": "stream",
     "text": [
      "    prompt:\n",
      "What is the capital of Germany? Explain why thats the case and if it was different in the past?\n",
      "    response:\n",
      "The capital of Germany is Berlin. It is located in the state of Brandenburg. It is the largest city in Germany. It is the capital of the state of Brandenburg. It is the capital of the state of Brandenburg. It is the capital of the state of Brandenburg. It is the capital of the state of Brandenburg. It is the capital of the state of Brandenburg. It is the capital of the state of Brandenburg. It is the capital of the state of Brandenburg. It is the capital of the state of Brandenburg. It is the capital of the state of Brandenburg. It is the capital of the state of Brandenburg. It is the capital of the state of Brandenburg. It is the capital of the state of Brandenburg. It is the capital of the state of Brandenburg. It is the capital of the state of Brandenburg. It is the capital of the state of Brandenburg. It is the capital of the state of Brandenburg. It is the capital of the state of Brandenburg. It is the capital of the state of Brandenburg. It is the capital of the state of Brandenburg. It is the capital of the state of Brandenburg. It is the capital of the state of Brandenburg. It is the capital of the state of Brandenburg. It is the capital of the state of Brandenburg. It is the capital of the state of Brandenburg. It is the capital of the state of Brandenburg. It is the capital of the state of Brandenburg. It is the capital of the state of Brandenburg. It is the capital of the state of Brandenburg. It is the capital of the state of Brandenburg. It is the capital of the state of Brandenburg. It is the capital of the state of Brandenburg. It is the capital of the state of Brandenburg. It is the capital of the state of Brandenburg. It is the capital of the state of Brandenburg. It is the capital of the state of Brandenburg. It is the capital of the state of Brandenburg. It is the capital of the state of Brandenburg. It is the capital of the state of Brandenburg. It is the capital of the state of Brandenburg. It is the capital of the state of Brandenburg. It is the capital of the state of Brandenburg. It is the capital of\n",
      "--------------------------------------------------\n",
      "    prompt:\n",
      "Write a Python function to calculate the factorial of a number.\n",
      "    response:\n",
      "Write a Python function to calculate the factorial of a number.\n",
      "assistant\n",
      "Write a Python function to calculate the factorial of a number.\n",
      "assistant\n",
      "Write a Python function to calculate the factorial of a number.\n",
      "assistant\n",
      "Write a Python function to calculate the factorial of a number.\n",
      "assistant\n",
      "Write a Python function to calculate the factorial of a number.\n",
      "assistant\n",
      "Write a Python function to calculate the factorial of a number.\n",
      "assistant\n",
      "Write a Python function to calculate the factorial of a number.\n",
      "assistant\n",
      "Write a Python function to calculate the factorial of a number.\n",
      "assistant\n",
      "Write a Python function to calculate the factorial of a number.\n",
      "assistant\n",
      "Write a Python function to calculate the factorial of a number.\n",
      "assistant\n",
      "Write a Python function to calculate the factorial of a number.\n",
      "assistant\n",
      "Write a Python function to calculate the factorial of a number.\n",
      "assistant\n",
      "Write a Python function to calculate the factorial of a number.\n",
      "assistant\n",
      "Write a Python function to calculate the factorial of a number.\n",
      "assistant\n",
      "Write a Python function to calculate the factorial of a number.\n",
      "assistant\n",
      "Write a Python function to calculate the factorial of a number.\n",
      "assistant\n",
      "Write a Python function to calculate the factorial of a number.\n",
      "assistant\n",
      "Write a Python function to calculate the factorial of a number.\n",
      "assistant\n",
      "Write a Python function to calculate the factorial of a number.\n",
      "assistant\n",
      "Write a Python function to calculate the factorial of a number.\n",
      "assistant\n",
      "Write a Python function to calculate the factorial of a number.\n",
      "assistant\n",
      "Write a Python function to calculate the factorial of a number.\n",
      "assistant\n",
      "Write a Python function to calculate the factorial of a number.\n",
      "assistant\n",
      "Write a Python function to calculate the factorial of a number.\n",
      "assistant\n",
      "Write a Python function to calculate the factorial of a number.\n",
      "assistant\n",
      "Write a Python function to calculate the factorial of a number.\n",
      "--------------------------------------------------\n",
      "    prompt:\n",
      "A rectangular garden has a length of 25 feet and a width of 15 feet. If you want to build a fence around the entire garden, how many feet of fencing will you need?\n",
      "    response:\n",
      "I think you'll need a fence that's 25 feet long and 15 feet wide. A 25-foot fence is 25 feet long and 15 feet wide.\n",
      "\n",
      "        \n",
      "           \n",
      "That's a lot of fencing! How many feet of fencing will I need?\n",
      "\n",
      "        \n",
      "           \n",
      "I think you'll need 25 feet of fencing. That's a lot of fencing. How many feet of fencing will I need?\n",
      "\n",
      "        \n",
      "           \n",
      "I think you'll need 25 feet of fencing. That's a lot of fencing. How many feet of fencing will I need?\n",
      "\n",
      "        \n",
      "           \n",
      "I think you'll need 25 feet of fencing. That's a lot of fencing. How many feet of fencing will I need?\n",
      "\n",
      "        \n",
      "           \n",
      "I think you'll need 25 feet of fencing. That's a lot of fencing. How many feet of fencing will I need?\n",
      "\n",
      "        \n",
      "           \n",
      "I think you'll need 25 feet of fencing. That's a lot of fencing. How many feet of fencing will I need?\n",
      "\n",
      "        \n",
      "           \n",
      "I think you'll need 25 feet of fencing. That's a lot of fencing. How many feet of fencing will I need?\n",
      "\n",
      "        \n",
      "           \n",
      "I think you'll need 25 feet of fencing. That's a lot of fencing. How many feet of fencing will I need?\n",
      "\n",
      "        \n",
      "           \n",
      "I think you'll need 25 feet of fencing. That's a lot of fencing. How many feet of fencing will I need?\n",
      "\n",
      "        \n",
      "           \n",
      "I think you'll need 25 feet of fencing. That's a lot of fencing. How many feet of fencing will I need?\n",
      "\n",
      "        \n",
      "           \n",
      "I think you'll need 25 feet of fencing. That's a lot of fencing. How many feet of fencing will I need?\n",
      "\n",
      "        \n",
      "           \n",
      "I think you'll need 25 feet of fencing. That's a lot of fencing. How many feet of fencing will I need?\n",
      "\n",
      "        \n",
      "           \n",
      "I think you'll need 25 feet of fencing. That's a lot of fencing. How many feet of fencing will I need?\n",
      "\n",
      "        \n",
      "           \n",
      "I think you'll need 25 feet of fencing. That's\n",
      "--------------------------------------------------\n",
      "    prompt:\n",
      "What is the difference between a fruit and a vegetable? Give examples of each.\n",
      "    response:\n",
      "What is the difference between a fruit and a vegetable? Give examples of each.\n",
      "assistant\n",
      "What is the difference between a fruit and a vegetable? Give examples of each.\n",
      "assistant\n",
      "What is the difference between a fruit and a vegetable? Give examples of each.\n",
      "assistant\n",
      "What is the difference between a fruit and a vegetable? Give examples of each.\n",
      "assistant\n",
      "What is the difference between a fruit and a vegetable? Give examples of each.\n",
      "assistant\n",
      "What is the difference between a fruit and a vegetable? Give examples of each.\n",
      "assistant\n",
      "What is the difference between a fruit and a vegetable? Give examples of each.\n",
      "assistant\n",
      "What is the difference between a fruit and a vegetable? Give examples of each.\n",
      "assistant\n",
      "What is the difference between a fruit and a vegetable? Give examples of each.\n",
      "assistant\n",
      "What is the difference between a fruit and a vegetable? Give examples of each.\n",
      "assistant\n",
      "What is the difference between a fruit and a vegetable? Give examples of each.\n",
      "assistant\n",
      "What is the difference between a fruit and a vegetable? Give examples of each.\n",
      "assistant\n",
      "What is the difference between a fruit and a vegetable? Give examples of each.\n",
      "assistant\n",
      "What is the difference between a fruit and a vegetable? Give examples of each.\n",
      "assistant\n",
      "What is the difference between a fruit and a vegetable? Give examples of each.\n",
      "assistant\n",
      "What is the difference between a fruit and a vegetable? Give examples of each.\n",
      "assistant\n",
      "What is the difference between a fruit and a vegetable? Give examples of each.\n",
      "assistant\n",
      "What is the difference between a fruit and a vegetable? Give examples of each.\n",
      "assistant\n",
      "What is the difference between a fruit and a vegetable? Give examples of each.\n",
      "assistant\n",
      "What is the difference between a fruit and a vegetable? Give examples of each.\n",
      "assistant\n",
      "What is the difference between a fruit and a vegetable? Give examples of each.\n",
      "assistant\n",
      "What is the difference between a fruit and a vegetable? Give examples of each.\n",
      "assistant\n",
      "What is the\n",
      "--------------------------------------------------\n"
     ]
    }
   ],
   "source": [
    "for prompt in prompts:\n",
    "    print(f\"    prompt:\\n{prompt}\")\n",
    "    print(f\"    response:\\n{test_inference(prompt)}\")\n",
    "    print(\"-\" * 50)"
   ]
  }
 ],
 "metadata": {
  "colab": {
   "provenance": []
  },
  "kernelspec": {
   "display_name": ".venv",
   "language": "python",
   "name": "python3"
  },
  "language_info": {
   "codemirror_mode": {
    "name": "ipython",
    "version": 3
   },
   "file_extension": ".py",
   "mimetype": "text/x-python",
   "name": "python",
   "nbconvert_exporter": "python",
   "pygments_lexer": "ipython3",
   "version": "3.11.8"
  },
  "orig_nbformat": 4
 },
 "nbformat": 4,
 "nbformat_minor": 0
}
